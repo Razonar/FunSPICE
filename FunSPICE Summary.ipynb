{
 "cells": [
  {
   "cell_type": "markdown",
   "metadata": {},
   "source": [
    "# FunSPICE\n",
    "\n",
    "\n",
    "## Overview \n",
    "\n",
    "FunSPICE is a python based linear laplace domain symbolic SPICE style circuit solver. \n",
    "\n",
    "The overall useage flow for FunSPICE is:\n",
    "\n",
    "Draw Circuit -> Label Nodes (0, 1, ..) -> Type Netlist -> FunSPICE -> Results\n",
    "\n",
    "Netlists are represented by an array of python dictionaries describing each elements. The element dictionaries contain the element information such as the node connections and element model parameters. Here is an example netlist for a simple voltage divider circuit:\n",
    "<br>\n",
    "<img src=\"rdiv.png\" style=\"float: left;\">"
   ]
  },
  {
   "cell_type": "code",
   "execution_count": 1,
   "metadata": {},
   "outputs": [],
   "source": [
    "netlist = [\n",
    "{'type':'V', 'k':1, 'j':0, 'val':'V_i'},\n",
    "{'type':'R', 'k':1, 'j':2, 'val':'R_1'},\n",
    "{'type':'R', 'k':2, 'j':0, 'val':'R_2'}\n",
    "]"
   ]
  },
  {
   "cell_type": "markdown",
   "metadata": {},
   "source": [
    "This netlist dictionary array is passed into the FunSPICE class constructor for it to parse, build the circuit matrix, and solve it. FunSPICE stores the results in a results array, where each voltage and current can be accessed via string keys. To get a list of all the available results use the print_results() function. The voltage keys match the node number in the circuit, ie v1 = 1. The currents are slightly cryptic and require a deeper understanding of how the spice matrix works internally to connect to the circuit. Note that not every element in the circuit requires a current variable in order to solve the ciruit. For example resistors don't need to track currents, but a voltage source does. That being said, the way the currents are labeled depends on the element type and where it lies in the netlist dictionary array. If a \"vin\" voltage source is the first element in the netlist, then i1 will always be the current flowing from k-j through that source."
   ]
  },
  {
   "cell_type": "code",
   "execution_count": 2,
   "metadata": {},
   "outputs": [
    {
     "name": "stdout",
     "output_type": "stream",
     "text": [
      "****************************************\n",
      "******        RESULTS          *********\n",
      "****************************************\n",
      "v1 = \n",
      "Vᵢ\n",
      "****************************************\n",
      "v2 = \n",
      " R₂⋅Vᵢ \n",
      "───────\n",
      "R₁ + R₂\n",
      "****************************************\n",
      "i1 = \n",
      "  -Vᵢ  \n",
      "───────\n",
      "R₁ + R₂\n",
      "****************************************\n"
     ]
    }
   ],
   "source": [
    "from FunSPICE import *\n",
    "init_printing()\n",
    "funspice = FunSPICE(netlist)\n",
    "funspice.print_results()"
   ]
  },
  {
   "cell_type": "markdown",
   "metadata": {},
   "source": [
    "FunSPICE uses the SymPy symbolic mathematics library at it's core, so you can use it's methods on the results for differentiating, integrating, limits, etc. The init_printing() function above is a SymPy method that enables jupyter to display pretty Latex equations."
   ]
  },
  {
   "cell_type": "code",
   "execution_count": 3,
   "metadata": {},
   "outputs": [
    {
     "data": {
      "image/png": "[encoded data removed]",
      "text/latex": [
       "$$\\frac{R_{2} V_{i}}{R_{1} + R_{2}}$$"
      ],
      "text/plain": [
       " R₂⋅Vᵢ \n",
       "───────\n",
       "R₁ + R₂"
      ]
     },
     "execution_count": 3,
     "metadata": {},
     "output_type": "execute_result"
    }
   ],
   "source": [
    "Vo = funspice.results['v2']\n",
    "Vo"
   ]
  },
  {
   "cell_type": "code",
   "execution_count": 4,
   "metadata": {},
   "outputs": [
    {
     "data": {
      "image/png": "[encoded data removed]",
      "text/latex": [
       "$$R_{1} + R_{2}$$"
      ],
      "text/plain": [
       "R₁ + R₂"
      ]
     },
     "execution_count": 4,
     "metadata": {},
     "output_type": "execute_result"
    }
   ],
   "source": [
    "zin = funspice.results['v1']/(-funspice.results['i1'])\n",
    "zin"
   ]
  },
  {
   "cell_type": "markdown",
   "metadata": {},
   "source": [
    "### Supported Elements\n",
    "<ul>\n",
    "    <li>Voltage Source (V)</li> \n",
    "    <li>Current Source (I)</li> \n",
    "    <li>Resistor (R)</li> \n",
    "    <li>Inductor (L)</li> \n",
    "    <li>Capacitor (C)</li> \n",
    "    <li>Voltage Controlled Voltage Source (E)</li> \n",
    "    <li>Voltage Controlled Current Source (G)</li> \n",
    "    <li>Current Controlled Current Source (F)</li> \n",
    "    <li>Current Controlled Voltage Source (H)</li> \n",
    "    <li>Ideal 1:N Transformer (X)</li> \n",
    "    <li>MOSFET SSM with variable ro, gm, cgd, cgs (M)</li>\n",
    "    <li>BJT SSM with variable ro, beta, gm, cbe, cbc (B)</li>\n",
    "    <li>OPAMP with infinite or defined gain function (O)</li>\n",
    "</ul>\n",
    "\n",
    "\n",
    "### Supported Features\n",
    "<ul>\n",
    "    <li>Symbolic and numeric AC vector circuit analysis</li>\n",
    "    <li><b>print_results():</b> print all circuit matrix results</li>\n",
    "    <li><b>polezeros(tf):</b> extract pole and zero frequencies from a transfer function (tf) equation</li>\n",
    "    <li><b>sens(function, var):</b> compute the sensitivity of function with respect to the symbol var</li>\n",
    "    <li><b>abeta(tf):</b> extracts the open loop gain and feedback factor from a closed loop tf.</li>\n",
    "</ul>\n",
    "\n",
    "### Future Development Wish List\n",
    "<ul>\n",
    "    <li>Add BULK terminal to MOSFET model</li>\n",
    "    <li>Current Conveyor/Transimpedance Amplifier AC model (Z)</li>\n",
    "    <li>Current probe (A)</li>\n",
    "    <li>Named node ('vi' as opposed to 1)</li>\n",
    "    <li>Named current results by element/probe ('iv1')</li>\n",
    "    <li>Specialized AC analysis (S-Param, Noise Figure, PSRR, etc.)</li>\n",
    "    <li>Create example circuits that can't be solved with AC methods and thus don't work with FunSPICE (non-linear and translinear circuits)</li></ul>\n",
    "\n",
    "### Future Analysis Ideas\n",
    "\n",
    "<ul>\n",
    "    <li><b>S-Parameters</b></li>\n",
    "    <li>Put port elements in the circuit, and it solves S11, S21, etc in terms of circuit variables. Even and odd mode impedance analysis would be nice too. </li>\n",
    "    <li><b>Noise Figure</b></li>\n",
    "    <li>Put port elements in the circuit and it solves for NF in terms of the circuit variables for each device and noise source in the circuit (automatically include fet gate noise, bjt shot noise, op amp input referred noise, etc. symbolically)</li>\n",
    "    <li><b>PSSR</b></li>\n",
    "        <li>Solve PSRR transfer functions for each defined power rail to a specified node in the circuit (Vo for example) </li>\n",
    "    <li><b>Differential and CM</b> </li>\n",
    "    <li>Put in a differential source and it solves for Av_d, Av_cm, CMRR, Zin_d, Zin_cm </li>\n",
    "</ul>\n",
    "\n",
    "\n",
    "## FunSPICE Example Usage\n",
    "## Three Input Inverting Voltage Adder with Op Amp (infinite gain, infinite bandwidth) \n",
    "### Circuit Diagram\n",
    "<img src=\"adder.png\" style=\"float: left;\">\n",
    "### Fun Experiment\n",
    "Try changing the gain value of the opamp from infinity to A_v and re-run the cells to see how the equations change."
   ]
  },
  {
   "cell_type": "code",
   "execution_count": 5,
   "metadata": {},
   "outputs": [],
   "source": [
    "netlist = [\n",
    "{'type':'V', 'k':1, 'j':0, 'val':'V_1'},\n",
    "{'type':'V', 'k':2, 'j':0, 'val':'V_2'},\n",
    "{'type':'V', 'k':3, 'j':0, 'val':'V_3'},\n",
    "{'type':'R', 'k':1, 'j':4, 'val':'R_1'},\n",
    "{'type':'R', 'k':2, 'j':4, 'val':'R_2'},\n",
    "{'type':'R', 'k':3, 'j':4, 'val':'R_3'},\n",
    "{'type':'O', 'p':0, 'n':4, 'o':5, 'val':'inf'},\n",
    "{'type':'R', 'k':4, 'j':5, 'val':'R_f'}\n",
    "]\n",
    "\n",
    "funspice = FunSPICE(netlist)\n",
    "Vo = funspice.results['v5']"
   ]
  },
  {
   "cell_type": "markdown",
   "metadata": {},
   "source": [
    "### Vo"
   ]
  },
  {
   "cell_type": "code",
   "execution_count": 6,
   "metadata": {},
   "outputs": [
    {
     "data": {
      "image/png": "[encoded data removed]",
      "text/latex": [
       "$$- \\frac{R_{f} V_{3}}{R_{3}} - \\frac{R_{f} V_{2}}{R_{2}} - \\frac{R_{f} V_{1}}{R_{1}}$$"
      ],
      "text/plain": [
       "  R_f⋅V₃   R_f⋅V₂   R_f⋅V₁\n",
       "- ────── - ────── - ──────\n",
       "    R₃       R₂       R₁  "
      ]
     },
     "execution_count": 6,
     "metadata": {},
     "output_type": "execute_result"
    }
   ],
   "source": [
    "Vo"
   ]
  },
  {
   "cell_type": "markdown",
   "metadata": {},
   "source": [
    "## Op Amp (finite gain, finite bandwidth) based Non-Inverting Amplifier\n",
    "### Circuit Diagram\n",
    "<img src=\"noninvamp.png\" style=\"float: left;\">\n",
    "### Fun Experiment\n",
    "Try changing the gain value of the opamp from the 1rst order lowpass transfer function (A_0/(1+s/w_b)) to inf and re-run the cells to see the ideal gain we know and love."
   ]
  },
  {
   "cell_type": "code",
   "execution_count": 7,
   "metadata": {},
   "outputs": [],
   "source": [
    "netlist = [\n",
    "{'type':'V', 'k':1, 'j':0, 'val':'V_i'},\n",
    "{'type':'O', 'p':1, 'n':2, 'o':3, 'val':'A_0/(1+s/w_b)'},\n",
    "{'type':'R', 'k':2, 'j':0, 'val':'R_a'},\n",
    "{'type':'R', 'k':2, 'j':3, 'val':'R_f'}\n",
    "]\n",
    "\n",
    "funspice = FunSPICE(netlist)\n",
    "Vo = funspice.results['v3']\n",
    "Vi = Symbol(\"V_i\")\n",
    "Gain = Vo/Vi"
   ]
  },
  {
   "cell_type": "markdown",
   "metadata": {},
   "source": [
    "### Gain"
   ]
  },
  {
   "cell_type": "code",
   "execution_count": 8,
   "metadata": {},
   "outputs": [
    {
     "data": {
      "image/png": "[encoded data removed]",
      "text/latex": [
       "$$\\frac{A_{0} w_{b} \\left(R_{a} + R_{f}\\right)}{A_{0} R_{a} w_{b} + R_{a} \\left(s + w_{b}\\right) + R_{f} \\left(s + w_{b}\\right)}$$"
      ],
      "text/plain": [
       "           A₀⋅w_b⋅(Rₐ + R_f)            \n",
       "────────────────────────────────────────\n",
       "A₀⋅Rₐ⋅w_b + Rₐ⋅(s + w_b) + R_f⋅(s + w_b)"
      ]
     },
     "execution_count": 8,
     "metadata": {},
     "output_type": "execute_result"
    }
   ],
   "source": [
    "Gain"
   ]
  },
  {
   "cell_type": "markdown",
   "metadata": {},
   "source": [
    "### DC Gain"
   ]
  },
  {
   "cell_type": "code",
   "execution_count": 9,
   "metadata": {},
   "outputs": [
    {
     "data": {
      "image/png": "[encoded data removed]",
      "text/latex": [
       "$$\\frac{A_{0} \\left(R_{a} + R_{f}\\right)}{A_{0} R_{a} + R_{a} + R_{f}}$$"
      ],
      "text/plain": [
       " A₀⋅(Rₐ + R_f)  \n",
       "────────────────\n",
       "A₀⋅Rₐ + Rₐ + R_f"
      ]
     },
     "execution_count": 9,
     "metadata": {},
     "output_type": "execute_result"
    }
   ],
   "source": [
    "s = Symbol(\"s\")\n",
    "Gain_DC = simplify(Gain.subs(s,0))\n",
    "Gain_DC"
   ]
  },
  {
   "cell_type": "markdown",
   "metadata": {},
   "source": [
    "### Poles and Zeros"
   ]
  },
  {
   "cell_type": "code",
   "execution_count": 10,
   "metadata": {},
   "outputs": [],
   "source": [
    "zeros, poles = poleszeros(Gain)"
   ]
  },
  {
   "cell_type": "code",
   "execution_count": 11,
   "metadata": {},
   "outputs": [
    {
     "data": {
      "image/png": "[encoded data removed]",
      "text/latex": [
       "$$\\left [ - \\frac{w_{b}}{R_{a} + R_{f}} \\left(A_{0} R_{a} + R_{a} + R_{f}\\right)\\right ]$$"
      ],
      "text/plain": [
       "⎡-w_b⋅(A₀⋅Rₐ + Rₐ + R_f) ⎤\n",
       "⎢────────────────────────⎥\n",
       "⎣        Rₐ + R_f        ⎦"
      ]
     },
     "execution_count": 11,
     "metadata": {},
     "output_type": "execute_result"
    }
   ],
   "source": [
    "poles"
   ]
  },
  {
   "cell_type": "code",
   "execution_count": 12,
   "metadata": {},
   "outputs": [
    {
     "data": {
      "image/png": "[encoded data removed]",
      "text/latex": [
       "$$\\left [ \\right ]$$"
      ],
      "text/plain": [
       "[]"
      ]
     },
     "execution_count": 12,
     "metadata": {},
     "output_type": "execute_result"
    }
   ],
   "source": [
    "zeros"
   ]
  },
  {
   "cell_type": "markdown",
   "metadata": {},
   "source": [
    "## Transformer Circuit\n",
    "### Circuit Diagram\n",
    "<img src=\"xfrmcir.png\" style=\"float: left;\">"
   ]
  },
  {
   "cell_type": "code",
   "execution_count": 13,
   "metadata": {},
   "outputs": [],
   "source": [
    "netlist = [\n",
    "{'type':'V', 'k':1, 'j':0, 'val':'V_i'},\n",
    "{'type':'R', 'k':1, 'j':2, 'val':'R_S'},\n",
    "{'type':'X', 'p1':2, 'n1':0, 'p2':3, 'n2':0, 'val':'n'},\n",
    "{'type':'R', 'k':3, 'j':0, 'val':'R_L'}\n",
    "]\n",
    "funspice = FunSPICE(netlist)\n",
    "v2 = funspice.results['v2']\n",
    "v3 = funspice.results['v3']\n",
    "iin = -funspice.results['i1']\n",
    "zin = v2/iin\n",
    "Vo = v3"
   ]
  },
  {
   "cell_type": "code",
   "execution_count": 14,
   "metadata": {},
   "outputs": [
    {
     "data": {
      "image/png": "[encoded data removed]",
      "text/latex": [
       "$$\\frac{R_{L} V_{i} n}{R_{L} + R_{S} n^{2}}$$"
      ],
      "text/plain": [
       "  R_L⋅Vᵢ⋅n  \n",
       "────────────\n",
       "           2\n",
       "R_L + R_S⋅n "
      ]
     },
     "execution_count": 14,
     "metadata": {},
     "output_type": "execute_result"
    }
   ],
   "source": [
    "simplify(Vo)"
   ]
  },
  {
   "cell_type": "code",
   "execution_count": 15,
   "metadata": {},
   "outputs": [
    {
     "data": {
      "image/png": "[encoded data removed]",
      "text/latex": [
       "$$\\frac{R_{L}}{n^{2}}$$"
      ],
      "text/plain": [
       "R_L\n",
       "───\n",
       "  2\n",
       " n "
      ]
     },
     "execution_count": 15,
     "metadata": {},
     "output_type": "execute_result"
    }
   ],
   "source": [
    "simplify(zin)"
   ]
  },
  {
   "cell_type": "markdown",
   "metadata": {},
   "source": [
    "## Bipolar Current Mirror\n",
    "\n",
    "### Circuit Diagram\n",
    "<img src=\"npnmirror.png\" style=\"float: left;\">"
   ]
  },
  {
   "cell_type": "code",
   "execution_count": 16,
   "metadata": {},
   "outputs": [],
   "source": [
    "netlist = [\n",
    "{'type':'V', 'k':4, 'j':0, 'val':0}, #vout short\n",
    "{'type':'I', 'k':0, 'j':1, 'val':'I_i'}, # Ii input current\n",
    "{'type':'B', 'c':1, 'b':1, 'e':2, 'ro':'inf', 'beta':'beta_0', 'gm':'gm_n', 'cbe':'0', 'cbc':0}, #B1\n",
    "{'type':'R', 'k':2, 'j':0, 'val':'R_e'}, #Re1\n",
    "{'type':'B', 'c':4, 'b':1, 'e':3, 'ro':'inf', 'beta':'beta_0', 'gm':'gm_n', 'cbe':'0', 'cbc':0}, #B2\n",
    "{'type':'R', 'k':3, 'j':0, 'val':'R_e'}, #Re2\n",
    "{'type':'B', 'c':4, 'b':1, 'e':5, 'ro':'inf', 'beta':'beta_0', 'gm':'gm_n', 'cbe':'0', 'cbc':0}, #B3\n",
    "{'type':'R', 'k':5, 'j':0, 'val':'R_e'} #Re3\n",
    "]\n",
    "\n",
    "funspice = FunSPICE(netlist)\n",
    "Io = -funspice.results['i1']\n",
    "Ii = Symbol(\"I_i\")\n",
    "Gain = simplify(Io/Ii)"
   ]
  },
  {
   "cell_type": "markdown",
   "metadata": {},
   "source": [
    "### Gain"
   ]
  },
  {
   "cell_type": "code",
   "execution_count": 17,
   "metadata": {},
   "outputs": [
    {
     "data": {
      "image/png": "[encoded data removed]",
      "text/latex": [
       "$$\\frac{2 \\beta_{0}}{\\beta_{0} + 3}$$"
      ],
      "text/plain": [
       " 2⋅β₀ \n",
       "──────\n",
       "β₀ + 3"
      ]
     },
     "execution_count": 17,
     "metadata": {},
     "output_type": "execute_result"
    }
   ],
   "source": [
    "Gain"
   ]
  },
  {
   "cell_type": "markdown",
   "metadata": {},
   "source": [
    "### Limit(Gain, beta0 -> inf)"
   ]
  },
  {
   "cell_type": "code",
   "execution_count": 18,
   "metadata": {},
   "outputs": [
    {
     "data": {
      "image/png": "[encoded data removed]",
      "text/latex": [
       "$$2$$"
      ],
      "text/plain": [
       "2"
      ]
     },
     "execution_count": 18,
     "metadata": {},
     "output_type": "execute_result"
    }
   ],
   "source": [
    "beta0 = Symbol(\"beta_0\")\n",
    "limit(Gain, beta0, oo)"
   ]
  },
  {
   "cell_type": "markdown",
   "metadata": {},
   "source": [
    "## Series Voltage Feedback with Noise\n",
    "### Circuit Diagram\n",
    "<img src=\"e_cir.png\">"
   ]
  },
  {
   "cell_type": "code",
   "execution_count": 19,
   "metadata": {},
   "outputs": [],
   "source": [
    "netlist = [\n",
    "{'type':'V', 'k':1, 'j':0, 'val':'V_i'},\n",
    "{'type':'E', 'k':3, 'j':4, 'p':1, 'q':2, 'val':'A_v'},\n",
    "{'type':'V', 'k':4, 'j':0, 'val':'N_o'},  \n",
    "{'type':'E', 'k':2, 'j':0, 'p':3, 'q':0, 'val':'B'}\n",
    "]\n",
    "funspice = FunSPICE(netlist)\n",
    "Vo = funspice.results['v3']"
   ]
  },
  {
   "cell_type": "code",
   "execution_count": 20,
   "metadata": {},
   "outputs": [
    {
     "data": {
      "image/png": "[encoded data removed]",
      "text/latex": [
       "$$\\frac{A_{v} V_{i} + N_{o}}{A_{v} B + 1}$$"
      ],
      "text/plain": [
       "Aᵥ⋅Vᵢ + Nₒ\n",
       "──────────\n",
       " Aᵥ⋅B + 1 "
      ]
     },
     "execution_count": 20,
     "metadata": {},
     "output_type": "execute_result"
    }
   ],
   "source": [
    "simplify(Vo)"
   ]
  },
  {
   "cell_type": "markdown",
   "metadata": {},
   "source": [
    "## Op Amp (finite gain) Bandpass Filter\n",
    "### Circuit Diagram\n",
    "<img src=\"bpfilt.png\">\n",
    "\n",
    "### Fun Experiment\n",
    "Try changing the gain value of the opamp from infinity to A_v and re-run the cells to see how the equations change."
   ]
  },
  {
   "cell_type": "code",
   "execution_count": 21,
   "metadata": {},
   "outputs": [],
   "source": [
    "netlist = [\n",
    "{'type':'V', 'k':1, 'j':0, 'val':'V_i'},\n",
    "{'type':'R', 'k':1, 'j':2, 'val':'R_1'},\n",
    "{'type':'C', 'k':2, 'j':3, 'val':'C_1'},\n",
    "{'type':'R', 'k':3, 'j':4, 'val':'R_2'},\n",
    "{'type':'C', 'k':3, 'j':4, 'val':'C_2'},\n",
    "{'type':'O', 'p':0, 'n':3, 'o':4, 'val':'inf'}\n",
    "]\n",
    "\n",
    "funspice = FunSPICE(netlist)\n",
    "Vo = funspice.results['v4']\n",
    "Vi = Symbol(\"V_i\")\n",
    "Gain = Vo/Vi"
   ]
  },
  {
   "cell_type": "code",
   "execution_count": 22,
   "metadata": {},
   "outputs": [
    {
     "data": {
      "image/png": "[encoded data removed]",
      "text/latex": [
       "$$- \\frac{C_{1} R_{2} s}{\\left(C_{1} R_{1} s + 1\\right) \\left(C_{2} R_{2} s + 1\\right)}$$"
      ],
      "text/plain": [
       "         -C₁⋅R₂⋅s          \n",
       "───────────────────────────\n",
       "(C₁⋅R₁⋅s + 1)⋅(C₂⋅R₂⋅s + 1)"
      ]
     },
     "execution_count": 22,
     "metadata": {},
     "output_type": "execute_result"
    }
   ],
   "source": [
    "simplify(Gain)"
   ]
  },
  {
   "cell_type": "markdown",
   "metadata": {},
   "source": [
    "### Poles and Zeros"
   ]
  },
  {
   "cell_type": "code",
   "execution_count": 23,
   "metadata": {},
   "outputs": [],
   "source": [
    "zeros, poles = poleszeros(Gain)"
   ]
  },
  {
   "cell_type": "code",
   "execution_count": 24,
   "metadata": {},
   "outputs": [
    {
     "data": {
      "image/png": "[encoded data removed]",
      "text/latex": [
       "$$\\left [ - \\frac{1}{C_{1} R_{1}}, \\quad - \\frac{1}{C_{2} R_{2}}\\right ]$$"
      ],
      "text/plain": [
       "⎡ -1     -1  ⎤\n",
       "⎢─────, ─────⎥\n",
       "⎣C₁⋅R₁  C₂⋅R₂⎦"
      ]
     },
     "execution_count": 24,
     "metadata": {},
     "output_type": "execute_result"
    }
   ],
   "source": [
    "poles"
   ]
  },
  {
   "cell_type": "code",
   "execution_count": 25,
   "metadata": {},
   "outputs": [
    {
     "data": {
      "image/png": "[encoded data removed]",
      "text/latex": [
       "$$\\left [ 0\\right ]$$"
      ],
      "text/plain": [
       "[0]"
      ]
     },
     "execution_count": 25,
     "metadata": {},
     "output_type": "execute_result"
    }
   ],
   "source": [
    "zeros"
   ]
  }
 ],
 "metadata": {
  "kernelspec": {
   "display_name": "Python 3",
   "language": "python",
   "name": "python3"
  },
  "language_info": {
   "codemirror_mode": {
    "name": "ipython",
    "version": 3
   },
   "file_extension": ".py",
   "mimetype": "text/x-python",
   "name": "python",
   "nbconvert_exporter": "python",
   "pygments_lexer": "ipython3",
   "version": "3.6.5"
  }
 },
 "nbformat": 4,
 "nbformat_minor": 2
}
