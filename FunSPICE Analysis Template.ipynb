{
 "cells": [
  {
   "cell_type": "markdown",
   "metadata": {},
   "source": [
    "# FunSPICE Analysis Template\n",
    "\n",
    "Feel free to use this notebook as a template to build and analyze your own circuits. Below is a list of all the element dictionaries which can be copied into your own netlist:\n",
    "\n",
    "<b><pre>{'type':'V', 'k':k, 'j':j, 'val':'V'}</pre></b>\n",
    "<b><pre>{'type':'I', 'k':k, 'j':j, 'val':'Is'}</pre></b>\n",
    "<b><pre>{'type':'R', 'k':k, 'j':j, 'val':'R'}</pre></b>\n",
    "<b><pre>{'type':'L', 'k':k, 'j':j, 'val':'L'}</pre></b>\n",
    "<b><pre>{'type':'C', 'k':k, 'j':j, 'val':'C'}</pre></b>\n",
    "<b><pre>{'type':'E', 'k':k, 'j':j, 'p':p, 'q':q, 'val':'A_v'}</pre></b>\n",
    "<b><pre>{'type':'G', 'k':k, 'j':j, 'p':p, 'q':q, 'val':'G'}</pre></b>\n",
    "<b><pre>{'type':'F', 'k':k, 'j':j, 'p':p, 'q':q, 'val':'A_i'}</pre></b>\n",
    "<b><pre>{'type':'H', 'k':k, 'j':j, 'p':p, 'q':q, 'val':'Z'}</pre></b>\n",
    "<b><pre>{'type':'X', 'p1':p1, 'n1':n1,' p2':p2, 'n2':n2, 'val':'n'}</pre></b>\n",
    "<b><pre>{'type':'M', 'd':0, 'g':1, 's':2, 'ro':'ro', 'gm':'gm', 'cgs':'cgs', 'cgd':'cgd'}</pre></b>\n",
    "<b><pre>{'type':'B', 'c':0, 'b':1, 'e':2, 'ro':'ro', 'beta':'beta', 'gm':'gm', 'cbe':'cbe', 'cbc':'cbc'}</pre></b>\n",
    "<b><pre>{'type':'O', 'p':p, 'n':n, 'o':o,'val':'A_v'}</pre></b>\n"
   ]
  },
  {
   "cell_type": "code",
   "execution_count": null,
   "metadata": {},
   "outputs": [],
   "source": [
    "from FunSPICE import *\n",
    "init_printing()\n",
    "\n",
    "netlist = [\n",
    "# insert your list of elements here\n",
    "]\n",
    "\n",
    "funspice = FunSPICE(netlist)\n",
    "funspice.print_results()\n",
    "#Add your own results access statements here"
   ]
  }
 ],
 "metadata": {
  "kernelspec": {
   "display_name": "Python 3",
   "language": "python",
   "name": "python3"
  },
  "language_info": {
   "codemirror_mode": {
    "name": "ipython",
    "version": 3
   },
   "file_extension": ".py",
   "mimetype": "text/x-python",
   "name": "python",
   "nbconvert_exporter": "python",
   "pygments_lexer": "ipython3",
   "version": "3.6.5"
  }
 },
 "nbformat": 4,
 "nbformat_minor": 2
}
